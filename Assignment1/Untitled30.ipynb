{
 "cells": [
  {
   "cell_type": "code",
   "execution_count": null,
   "metadata": {},
   "outputs": [],
   "source": [
    "# TASK 1\n",
    "#Write a Python program to calculate sum and product of digits of a number.(Create Two different funtions one for sum and one product.)\n"
   ]
  },
  {
   "cell_type": "code",
   "execution_count": 45,
   "metadata": {},
   "outputs": [
    {
     "name": "stdout",
     "output_type": "stream",
     "text": [
      "60\n",
      "21\n"
     ]
    }
   ],
   "source": [
    "# Function to get product of digits \n",
    "def getProduct(n): \n",
    "\n",
    "\tproduct = 1\n",
    "\n",
    "\twhile (n != 0): \n",
    "\t\tproduct = product * (n % 10) \n",
    "\t\tn = n // 10\n",
    "\n",
    "\treturn product \n",
    "\n",
    "\n",
    "n = 4513\n",
    "print(getProduct(n)) \n",
    "\n",
    " \n",
    "# Python 3 program to \n",
    "# compute sum of digits in \n",
    "# number. \n",
    "\n",
    "# Function to get sum of digits \n",
    "def getSum(n): \n",
    "\n",
    "\tsum = 0\n",
    "\twhile (n != 0): \n",
    "\t\n",
    "\t\tsum = sum + int(n % 10) \n",
    "\t\tn = int(n/10) \n",
    "\t\n",
    "\treturn sum\n",
    "\n",
    "n = 687\n",
    "print(getSum(n)) "
   ]
  },
  {
   "cell_type": "code",
   "execution_count": null,
   "metadata": {},
   "outputs": [],
   "source": []
  },
  {
   "cell_type": "code",
   "execution_count": null,
   "metadata": {},
   "outputs": [],
   "source": [
    "# TASK 2\n",
    "#Develop a Python Program which prints factorial of a given number (Number should be User defined)\n",
    "\n"
   ]
  },
  {
   "cell_type": "code",
   "execution_count": 46,
   "metadata": {},
   "outputs": [
    {
     "name": "stdout",
     "output_type": "stream",
     "text": [
      "Input a number to compute the factiorial : 4\n",
      "24\n"
     ]
    }
   ],
   "source": [
    "def factorial(n):\n",
    "    if n == 0:\n",
    "        return 1\n",
    "    else:\n",
    "        return n * factorial(n-1)\n",
    "n=int(input(\"Input a number to compute the factiorial : \"))\n",
    "print(factorial(n))"
   ]
  },
  {
   "cell_type": "code",
   "execution_count": null,
   "metadata": {},
   "outputs": [],
   "source": []
  },
  {
   "cell_type": "code",
   "execution_count": null,
   "metadata": {},
   "outputs": [],
   "source": []
  },
  {
   "cell_type": "code",
   "execution_count": null,
   "metadata": {},
   "outputs": [],
   "source": []
  },
  {
   "cell_type": "code",
   "execution_count": null,
   "metadata": {},
   "outputs": [],
   "source": []
  }
 ],
 "metadata": {
  "kernelspec": {
   "display_name": "Python 3",
   "language": "python",
   "name": "python3"
  },
  "language_info": {
   "codemirror_mode": {
    "name": "ipython",
    "version": 3
   },
   "file_extension": ".py",
   "mimetype": "text/x-python",
   "name": "python",
   "nbconvert_exporter": "python",
   "pygments_lexer": "ipython3",
   "version": "3.7.6"
  }
 },
 "nbformat": 4,
 "nbformat_minor": 4
}
